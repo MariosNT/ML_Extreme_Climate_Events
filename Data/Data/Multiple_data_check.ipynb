{
 "cells": [
  {
   "cell_type": "code",
   "execution_count": 1,
   "id": "0b375efe",
   "metadata": {},
   "outputs": [],
   "source": [
    "import numpy as np\n",
    "import matplotlib.pyplot as plt"
   ]
  },
  {
   "cell_type": "code",
   "execution_count": 2,
   "id": "d7864de6",
   "metadata": {},
   "outputs": [],
   "source": [
    "Rain_Cardiff = np.load(\"Rainfall_Cardiff_2000.npy\")\n",
    "Rain_locations_large = np.load(\"Rainfalls_2000_2004_large.npy\")\n",
    "Rain_locations = np.load(\"Rainfalls_2000_2004.npy\")"
   ]
  },
  {
   "cell_type": "code",
   "execution_count": 3,
   "id": "1583da24",
   "metadata": {},
   "outputs": [
    {
     "data": {
      "text/plain": [
       "((366,), (39, 1827), (355, 1827))"
      ]
     },
     "execution_count": 3,
     "metadata": {},
     "output_type": "execute_result"
    }
   ],
   "source": [
    "Rain_Cardiff.shape, Rain_locations.shape, Rain_locations_large.shape"
   ]
  },
  {
   "cell_type": "markdown",
   "id": "ee9be024",
   "metadata": {},
   "source": [
    "For `large`, Cardiff is point $33$, and for `medium` it is point $18$."
   ]
  },
  {
   "cell_type": "code",
   "execution_count": 12,
   "id": "21b5facf",
   "metadata": {},
   "outputs": [
    {
     "name": "stdout",
     "output_type": "stream",
     "text": [
      "Checking medium file: 366\n",
      "Checking large file: 366\n"
     ]
    }
   ],
   "source": [
    "print(\"Checking medium file:\", np.sum(Rain_Cardiff==Rain_locations[18][:366]))\n",
    "print(\"Checking large file:\", np.sum(Rain_Cardiff==Rain_locations_large[33][:366]))"
   ]
  },
  {
   "cell_type": "code",
   "execution_count": null,
   "id": "dba094e2",
   "metadata": {},
   "outputs": [],
   "source": []
  }
 ],
 "metadata": {
  "kernelspec": {
   "display_name": "Python 3 (ipykernel)",
   "language": "python",
   "name": "python3"
  },
  "language_info": {
   "codemirror_mode": {
    "name": "ipython",
    "version": 3
   },
   "file_extension": ".py",
   "mimetype": "text/x-python",
   "name": "python",
   "nbconvert_exporter": "python",
   "pygments_lexer": "ipython3",
   "version": "3.8.8"
  }
 },
 "nbformat": 4,
 "nbformat_minor": 5
}
